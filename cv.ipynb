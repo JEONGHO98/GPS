{
 "cells": [
  {
   "cell_type": "code",
   "execution_count": 1,
   "metadata": {},
   "outputs": [],
   "source": [
    "import os\n",
    "import numpy as np\n",
    "import cv2\n",
    "\n",
    "# 이미지가 저장된 디렉터리 경로\n",
    "image_directory = \"./image/images\"\n",
    "\n",
    "# 객체 감지된 결과를 읽어올 파일 경로\n",
    "results_directory = \"./image/labels\"\n",
    "\n",
    "# 이미지 파일 이름이 \"image1.jpg\", \"image2.jpg\", ..., \"image60.jpg\"와 같은 형식이라고 가정\n",
    "for i in range(1, 343):\n",
    "    image_path = os.path.join(image_directory,f\"{i}.jpg\")\n",
    "    results_path = os.path.join(results_directory,f\"{i}.txt\")\n",
    "    \n",
    "    # 이미지 불러오기\n",
    "    image = cv2.imread(image_path)\n",
    "\n",
    "    # 결과 파일 읽어오기\n",
    "    with open(results_path, \"r\") as file:\n",
    "        lines = file.readlines()\n",
    "\n",
    "    # 바운딩 박스 정보를 저장할 리스트 초기화\n",
    "    bounding_boxes = []\n",
    "\n",
    "    # 결과를 이미지에 그리기\n",
    "    for line in lines:\n",
    "        line = line.strip().split(\" \")\n",
    "        class_id = int(line[0])\n",
    "        confidence = float(line[1])\n",
    "        x, y, w, h = map(float, line[1:])  # 클래스 ID와 신뢰도를 제외한 바운딩 박스 좌표만 사용\n",
    "\n",
    "        # 바운딩 박스 좌표 계산\n",
    "        left = int((x - w / 2) * image.shape[1])\n",
    "        top = int((y - h / 2) * image.shape[0])\n",
    "        right = int((x + w / 2) * image.shape[1])\n",
    "        bottom = int((y + h / 2) * image.shape[0])\n",
    "\n",
    "        # 바운딩 박스 정보를 저장\n",
    "        bounding_boxes.append((left, top, right, bottom, confidence, class_id))\n",
    "\n",
    "    # 새로운 이미지 생성\n",
    "    output_image = np.copy(image)\n",
    "\n",
    "    # 객체 이미지를 저장할 폴더 생성\n",
    "    output_folder = f\"./detected_images\"\n",
    "    os.makedirs(output_folder, exist_ok=True)\n",
    "\n",
    "    # 각 클래스에 따라 디렉토리 생성 및 이미지 저장\n",
    "    for bbox in bounding_boxes:\n",
    "        left, top, right, bottom, confidence, class_id = bbox\n",
    "        class_folder = f\"{output_folder}/class_{class_id}/\"\n",
    "        os.makedirs(class_folder, exist_ok=True)\n",
    "\n",
    "        # 바운딩 박스 그리기\n",
    "        cv2.rectangle(output_image, (int(left), int(top)), (int(right), int(bottom)), (0, 255, 0), 2)\n",
    "        # 객체가 감지된 부분만 이미지로 저장\n",
    "        object_image = image[int(top):int(bottom), int(left):int(right)]\n",
    "        # 이미지 저장\n",
    "        cv2.imwrite(f\"{class_folder}/detected_image_{class_id}_{i}_{confidence:.2f}.jpg\", object_image)\n",
    "\n",
    "    # 새로운 이미지 저장\n",
    "    output_folder = f\"./classified_images/image{i}/\"\n",
    "    os.makedirs(output_folder, exist_ok=True)\n",
    "    cv2.imwrite(f\"{output_folder}/classified_image.jpg\", output_image)\n"
   ]
  },
  {
   "cell_type": "code",
   "execution_count": 23,
   "metadata": {},
   "outputs": [
    {
     "name": "stdout",
     "output_type": "stream",
     "text": [
      "Requirement already satisfied: pillow in /Users/Suhwan/anaconda3/lib/python3.11/site-packages (9.4.0)\n",
      "Note: you may need to restart the kernel to use updated packages.\n"
     ]
    }
   ],
   "source": []
  }
 ],
 "metadata": {
  "kernelspec": {
   "display_name": "base",
   "language": "python",
   "name": "python3"
  },
  "language_info": {
   "codemirror_mode": {
    "name": "ipython",
    "version": 3
   },
   "file_extension": ".py",
   "mimetype": "text/x-python",
   "name": "python",
   "nbconvert_exporter": "python",
   "pygments_lexer": "ipython3",
   "version": "3.11.5"
  }
 },
 "nbformat": 4,
 "nbformat_minor": 2
}
